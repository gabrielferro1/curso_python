{
 "cells": [
  {
   "cell_type": "code",
   "execution_count": 9,
   "id": "302bde32",
   "metadata": {},
   "outputs": [],
   "source": [
    "from IPython.display import display  # para usar display\n",
    "import pandas as pd"
   ]
  },
  {
   "cell_type": "code",
   "execution_count": null,
   "id": "a134becb",
   "metadata": {},
   "outputs": [],
   "source": [
    "# CRIANDO UM DATAFRAME A PARTIR DE UM DICIONARIO\n",
    "\n",
    "# dataframe = pd.DataFrame() - PARA FAZER UM DATAFRAME VAZIO\n",
    "#venda = {'data': ['15/02/2021', '16/02/2021'],\n",
    "        # 'valor': [500, 300],\n",
    "        # 'produto': ['feijao', 'arroz'],\n",
    "        # 'qtde': [50, 70],\n",
    "        # }\n",
    "#vendas_df = pd.DataFrame(venda)"
   ]
  },
  {
   "cell_type": "code",
   "execution_count": 11,
   "id": "c64fe9ad",
   "metadata": {},
   "outputs": [
    {
     "data": {
      "text/html": [
       "<div>\n",
       "<style scoped>\n",
       "    .dataframe tbody tr th:only-of-type {\n",
       "        vertical-align: middle;\n",
       "    }\n",
       "\n",
       "    .dataframe tbody tr th {\n",
       "        vertical-align: top;\n",
       "    }\n",
       "\n",
       "    .dataframe thead th {\n",
       "        text-align: right;\n",
       "    }\n",
       "</style>\n",
       "<table border=\"1\" class=\"dataframe\">\n",
       "  <thead>\n",
       "    <tr style=\"text-align: right;\">\n",
       "      <th></th>\n",
       "      <th>data</th>\n",
       "      <th>valor</th>\n",
       "      <th>produto</th>\n",
       "      <th>qtde</th>\n",
       "    </tr>\n",
       "  </thead>\n",
       "  <tbody>\n",
       "    <tr>\n",
       "      <th>0</th>\n",
       "      <td>15/02/2021</td>\n",
       "      <td>500</td>\n",
       "      <td>feijao</td>\n",
       "      <td>50</td>\n",
       "    </tr>\n",
       "    <tr>\n",
       "      <th>1</th>\n",
       "      <td>16/02/2021</td>\n",
       "      <td>300</td>\n",
       "      <td>arroz</td>\n",
       "      <td>70</td>\n",
       "    </tr>\n",
       "  </tbody>\n",
       "</table>\n",
       "</div>"
      ],
      "text/plain": [
       "         data  valor produto  qtde\n",
       "0  15/02/2021    500  feijao    50\n",
       "1  16/02/2021    300   arroz    70"
      ]
     },
     "metadata": {},
     "output_type": "display_data"
    }
   ],
   "source": [
    "# VISUALIZACAO DE DADOS\n",
    "# display, print\n",
    "display(vendas_df)"
   ]
  },
  {
   "cell_type": "code",
   "execution_count": null,
   "id": "432088d7",
   "metadata": {},
   "outputs": [],
   "source": [
    "# IMPORTANDO ARQUIVOS E BASES DE DADOS\n",
    "\n",
    "vendas_df = pd.read_excel(\"Vendas.xlsx\")\n",
    "display(vendas_df)"
   ]
  },
  {
   "cell_type": "code",
   "execution_count": null,
   "id": "3f37bb44",
   "metadata": {},
   "outputs": [],
   "source": [
    "# RESUMOS DE VISUALIZACAO DE DADOS SIMPLES E UTEIS\n",
    "# head, shape, describe\n",
    "\n",
    "display(vendas_df.head(10))\n",
    "\n",
    "print(vendas_df.shape)  # mostra quantidade de linha e colunas\n",
    "\n",
    "display(vendas_df.describe())  # para fazer resumo da tabela"
   ]
  },
  {
   "cell_type": "code",
   "execution_count": null,
   "id": "d5c3a266",
   "metadata": {},
   "outputs": [],
   "source": [
    "# PEGAR 1 COLUNA (E OS PD.SERIES)\n",
    "\n",
    "# se for mais de 1 coluna tem que haver 2 > [] < vendas_df[['produto', 'vendas']]\n",
    "produtos = vendas_df['Produto']\n",
    "display(produtos)"
   ]
  },
  {
   "cell_type": "code",
   "execution_count": null,
   "id": "bb29cadf",
   "metadata": {},
   "outputs": [],
   "source": [
    "# .LOC UM METODO MUITO IMPORTANTE:\n",
    "# pegar 1 linha,\n",
    "display(vendas_df.loc[1])"
   ]
  },
  {
   "cell_type": "code",
   "execution_count": null,
   "id": "e5d43375",
   "metadata": {},
   "outputs": [],
   "source": [
    "# pegar linhas de acordo com alguma condicao,\n",
    "vendas_norteshopping_df = display(\n",
    "    vendas_df.loc[vendas_df['ID Loja'] == 'Norte Shopping'])"
   ]
  },
  {
   "cell_type": "code",
   "execution_count": null,
   "id": "310dd724",
   "metadata": {},
   "outputs": [],
   "source": [
    "# pegar linhas e colunas especificas,\n",
    "vendas_norteshopping_df = vendas_df.loc[vendas_df['ID Loja'] == 'Norte Shopping', [\"ID Loja, \"Produto\", \"Quantidade\" ]]\n",
    "display(vendas_norteshopping_df)"
   ]
  },
  {
   "cell_type": "code",
   "execution_count": null,
   "id": "6ebe74cd",
   "metadata": {},
   "outputs": [],
   "source": [
    "# pegar 1 valor especifico\n",
    "print(vendas_df.loc[1, 'Produto'])"
   ]
  },
  {
   "cell_type": "code",
   "execution_count": null,
   "id": "2513b302",
   "metadata": {},
   "outputs": [],
   "source": [
    "# ADICIONAR 1 COLUNA\n",
    "# a partir de uma coluna que existe\n",
    "vendas_df['Comissao'] = vendas_df['Valor Final'] * 0.05"
   ]
  },
  {
   "cell_type": "code",
   "execution_count": null,
   "id": "02a33a3b",
   "metadata": {},
   "outputs": [],
   "source": [
    "# criar uma coluna com valor padrao\n",
    "vendas_df.loc[:, \"Imposto\"] = 0"
   ]
  },
  {
   "cell_type": "code",
   "execution_count": null,
   "id": "ee287c42",
   "metadata": {},
   "outputs": [],
   "source": [
    "# ADICIONAR 1 LINHA\n",
    "# adicionar a tabela de dezembro\n",
    "vendas_dez_df = pd.read_excel(\"Vendas - Dez.xlsx\")\n",
    "display(vendas_dez_df)\n",
    "\n",
    "vendas_df = vendas_df.append(vendas_dez_df)  # adicionar a linha de dezembro\n",
    "display(vendas_dez_df)"
   ]
  },
  {
   "cell_type": "code",
   "execution_count": null,
   "id": "29309435",
   "metadata": {},
   "outputs": [],
   "source": [
    "# EXCLUIR LINHAS E COLUNAS\n",
    "\n",
    "# eixo 0 = linha, eixo 1 = coluna\n",
    "vendas_df = vendas_df_drop(\"Imposto,\" axis=1)"
   ]
  },
  {
   "cell_type": "code",
   "execution_count": null,
   "id": "6f857763",
   "metadata": {},
   "outputs": [],
   "source": [
    "# VALORES VAZIOS\n",
    "# Deletar linhas/ colunas completamente vazias\n",
    "vendas_df = vendas_df.dropna(how='all', axis=1) \n",
    "\n",
    "# deletar linhas que possuem pelo menos 1 valor vazio\n",
    "vendas_df = vendas_df.dropna()\n",
    "\n",
    "#preencher valores vazios\n",
    "#preencher com a media da coluna\n",
    "vendas_df['Comissao' = vendas_df['Comissao'].fillna(vendas_df['Comissao'].mean)] \n",
    "\n",
    "#preencher com o ultimo valor\n",
    "vendas_df = vendas_df.ffill()\n"
   ]
  },
  {
   "cell_type": "code",
   "execution_count": null,
   "id": "588fe5f0",
   "metadata": {},
   "outputs": [],
   "source": [
    "#Calcular indicadores\n",
    "\n",
    "#value counts\n",
    "transacoes_loja = vendas_df['ID Loja'].value_counts()\n",
    "display(transacoes_loja)\n",
    "\n",
    "#groupby\n",
    "faturamento_produto = vendas_df[['Produto', 'Valor Final']].groupby('Produto').sum() #somando o faturamento, .mean() para saber a media"
   ]
  },
  {
   "cell_type": "code",
   "execution_count": null,
   "id": "e70c4d01",
   "metadata": {},
   "outputs": [],
   "source": [
    "#Mesclar 2 dataframes (procurar inforamcoes de um dataframe em outro)\n",
    "gerentes_df = pd.read_excel(\"Gerentes.xlsx\")\n",
    "display(gerentes_df)\n",
    "\n",
    "vendas_df = vendas_df.merge(gerentes_df)"
   ]
  }
 ],
 "metadata": {
  "kernelspec": {
   "display_name": "Python 3",
   "language": "python",
   "name": "python3"
  },
  "language_info": {
   "codemirror_mode": {
    "name": "ipython",
    "version": 3
   },
   "file_extension": ".py",
   "mimetype": "text/x-python",
   "name": "python",
   "nbconvert_exporter": "python",
   "pygments_lexer": "ipython3",
   "version": "3.13.7"
  }
 },
 "nbformat": 4,
 "nbformat_minor": 5
}
